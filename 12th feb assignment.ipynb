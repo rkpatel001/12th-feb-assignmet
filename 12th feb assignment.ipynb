{
 "cells": [
  {
   "cell_type": "code",
   "execution_count": null,
   "id": "c506d23a-f54e-4caf-b61c-c9891bd97a4d",
   "metadata": {},
   "outputs": [],
   "source": [
    "# Q1 what is an exception in python ? write the differance between exceptions and syntex error?\n",
    "\n",
    "\n",
    "\n",
    "'''\n",
    "Exception is an event that rise durig execution\n",
    "syntex error is when proble is raise due to execution\n",
    "exceptions are raised when some internal events occur which changes the normal flow of the program.'''"
   ]
  },
  {
   "cell_type": "code",
   "execution_count": null,
   "id": "01bbd004-3e04-4e13-a0a7-b2f3931c6020",
   "metadata": {},
   "outputs": [],
   "source": []
  },
  {
   "cell_type": "code",
   "execution_count": 1,
   "id": "3a546bc1-7dfe-4081-8301-9328cb1f118c",
   "metadata": {},
   "outputs": [
    {
     "name": "stdin",
     "output_type": "stream",
     "text": [
      "Enter your age :  10\n"
     ]
    }
   ],
   "source": [
    "# Q2. What happend when exception is not handled ?\n",
    "\n",
    "\n",
    "'''if exception is not handled then program block will crash and print the msg in consol'''\n",
    "\n",
    "\n",
    "try:\n",
    "    age = int(input(\"Enter your age : \"))\n",
    "    \n",
    "except Exception as e:\n",
    "    print(\"this is error\",e)"
   ]
  },
  {
   "cell_type": "code",
   "execution_count": null,
   "id": "18844c46-4cb5-4f3e-b120-7f682cad9272",
   "metadata": {},
   "outputs": [],
   "source": []
  },
  {
   "cell_type": "code",
   "execution_count": 2,
   "id": "681649b1-83eb-4e53-9ff8-a620c4e6a0c7",
   "metadata": {},
   "outputs": [
    {
     "data": {
      "text/plain": [
       "'to handle the excemption we are using result = numerator uder the try block\\n\\ntry:\\n    numerator = 10\\n    denominator = 0\\n\\n    result = numerator/denominator\\n\\n    print(result)\\nexcept:\\n    print(\"Error: Denominator cannot be 0.\")\\n\\n# Output: Error: Denominator cannot be 0. '"
      ]
     },
     "execution_count": 2,
     "metadata": {},
     "output_type": "execute_result"
    }
   ],
   "source": [
    "# Q3. Which Python statement is used to ,catch and handle exceptions? Explain in with an example\n",
    "\n",
    "\n",
    "'''to handle the excemption we are using result = numerator uder the try block\n",
    "\n",
    "try:\n",
    "    numerator = 10\n",
    "    denominator = 0\n",
    "\n",
    "    result = numerator/denominator\n",
    "\n",
    "    print(result)\n",
    "except:\n",
    "    print(\"Error: Denominator cannot be 0.\")\n",
    "\n",
    "# Output: Error: Denominator cannot be 0. '''"
   ]
  },
  {
   "cell_type": "code",
   "execution_count": null,
   "id": "9cc92ed0-efa8-4932-9af4-ca6e9837e98f",
   "metadata": {},
   "outputs": [],
   "source": []
  },
  {
   "cell_type": "code",
   "execution_count": 2,
   "id": "cca5ac6c-c709-4b43-a30b-fd89aacefcdb",
   "metadata": {},
   "outputs": [
    {
     "data": {
      "text/plain": [
       "'try block lets you test the block of code and excetp lets you handle the erro\\n    else block lets you execute code when there is no erroe\\n    \\n    finally : finally block is define when the try else and except is final \\n    no matter try block raise an erroe or not it will execute\\n    \\n    raise : this keyword is use to raise an exception you can define what kind of error raise \\n    and text to print\\n'"
      ]
     },
     "execution_count": 2,
     "metadata": {},
     "output_type": "execute_result"
    }
   ],
   "source": [
    "# Q4 explain try and else ,finally,raise \n",
    "\n",
    "'''try block lets you test the block of code and excetp lets you handle the erro\n",
    "    else block lets you execute code when there is no erroe\n",
    "    \n",
    "    finally : finally block is define when the try else and except is final \n",
    "    no matter try block raise an erroe or not it will execute\n",
    "    \n",
    "    raise : this keyword is use to raise an exception you can define what kind of error raise \n",
    "    and text to print\n",
    "'''"
   ]
  },
  {
   "cell_type": "code",
   "execution_count": 3,
   "id": "6552988c-db1d-40d3-87ca-b7615789156b",
   "metadata": {},
   "outputs": [
    {
     "data": {
      "text/plain": [
       "'using custom excemtion we can make our code more reliable and easy\\n    python know as userfrirndly and reliabity and custom excemption make more \\n    efficiancy'"
      ]
     },
     "execution_count": 3,
     "metadata": {},
     "output_type": "execute_result"
    }
   ],
   "source": [
    "\n",
    "# Q5 what are custom exceptions and why we custom exception in python\n",
    "\n",
    "'''using custom excemtion we can make our code more reliable and easy\n",
    "    python know as userfrirndly and reliabity and custom excemption make more \n",
    "    efficiancy'''\n",
    "\n"
   ]
  },
  {
   "cell_type": "code",
   "execution_count": 4,
   "id": "1cdbc495-3d62-40d4-8b1e-7c2aca3ed134",
   "metadata": {},
   "outputs": [],
   "source": [
    "#Q5 creat a custom Excemption and handle a excamption\n",
    "\n",
    "class id1(Exception):\n",
    "    \n",
    "    def __init__(self,msg):\n",
    "        self.msg=msg\n",
    "        \n",
    "        \n",
    "        "
   ]
  },
  {
   "cell_type": "code",
   "execution_count": 10,
   "id": "4abeaaae-5489-460a-ae46-836c10e5e5c3",
   "metadata": {},
   "outputs": [],
   "source": [
    "def id1(myid):\n",
    "    if myid < 50 :\n",
    "        raise id1(\"you are identyfied\")\n",
    "    else:\n",
    "        raise id1(\"you are not identyfied !!\")\n",
    "        "
   ]
  },
  {
   "cell_type": "code",
   "execution_count": 11,
   "id": "6af26492-6c7b-4b82-b7cf-38fab275c10c",
   "metadata": {},
   "outputs": [
    {
     "name": "stdin",
     "output_type": "stream",
     "text": [
      "Enter your id :  12\n"
     ]
    },
    {
     "name": "stdout",
     "output_type": "stream",
     "text": [
      "this is custom exception\n"
     ]
    }
   ],
   "source": [
    "try:\n",
    "    myid=int(input(\"Enter your id : \"))\n",
    "    id1(myid)\n",
    "except Exception :\n",
    "    print(\"this is custom exception\")"
   ]
  },
  {
   "cell_type": "code",
   "execution_count": null,
   "id": "6132d884-b704-4e40-8f5c-50c8bef04ff7",
   "metadata": {},
   "outputs": [],
   "source": []
  }
 ],
 "metadata": {
  "kernelspec": {
   "display_name": "Python 3 (ipykernel)",
   "language": "python",
   "name": "python3"
  },
  "language_info": {
   "codemirror_mode": {
    "name": "ipython",
    "version": 3
   },
   "file_extension": ".py",
   "mimetype": "text/x-python",
   "name": "python",
   "nbconvert_exporter": "python",
   "pygments_lexer": "ipython3",
   "version": "3.10.8"
  }
 },
 "nbformat": 4,
 "nbformat_minor": 5
}
